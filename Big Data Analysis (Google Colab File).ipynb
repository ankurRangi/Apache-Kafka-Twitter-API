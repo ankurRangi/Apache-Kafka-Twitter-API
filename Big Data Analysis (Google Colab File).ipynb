{
  "nbformat": 4,
  "nbformat_minor": 0,
  "metadata": {
    "colab": {
      "name": "BDA_Assignment_04_v2.ipynb",
      "provenance": [],
      "collapsed_sections": []
    },
    "kernelspec": {
      "name": "python3",
      "display_name": "Python 3"
    },
    "language_info": {
      "name": "python"
    }
  },
  "cells": [
    {
      "cell_type": "markdown",
      "metadata": {
        "id": "iAqOb-K1pDNi"
      },
      "source": [
        "# Streaming Twitter Data Using Kafka\n",
        "\n",
        "Importing the libraries:"
      ]
    },
    {
      "cell_type": "code",
      "metadata": {
        "colab": {
          "base_uri": "https://localhost:8080/"
        },
        "id": "hJTNP_-5o0yt",
        "outputId": "0f52cb1d-a68c-49a4-8eab-09bfe27e7afc"
      },
      "source": [
        "!pip install kafka-python\n",
        "!pip install python-twitter\n",
        "!pip install tweepy"
      ],
      "execution_count": 44,
      "outputs": [
        {
          "output_type": "stream",
          "text": [
            "Requirement already satisfied: kafka-python in /usr/local/lib/python3.7/dist-packages (2.0.2)\n",
            "Requirement already satisfied: python-twitter in /usr/local/lib/python3.7/dist-packages (3.5)\n",
            "Requirement already satisfied: requests in /usr/local/lib/python3.7/dist-packages (from python-twitter) (2.23.0)\n",
            "Requirement already satisfied: future in /usr/local/lib/python3.7/dist-packages (from python-twitter) (0.16.0)\n",
            "Requirement already satisfied: requests-oauthlib in /usr/local/lib/python3.7/dist-packages (from python-twitter) (1.3.0)\n",
            "Requirement already satisfied: chardet<4,>=3.0.2 in /usr/local/lib/python3.7/dist-packages (from requests->python-twitter) (3.0.4)\n",
            "Requirement already satisfied: idna<3,>=2.5 in /usr/local/lib/python3.7/dist-packages (from requests->python-twitter) (2.10)\n",
            "Requirement already satisfied: certifi>=2017.4.17 in /usr/local/lib/python3.7/dist-packages (from requests->python-twitter) (2020.12.5)\n",
            "Requirement already satisfied: urllib3!=1.25.0,!=1.25.1,<1.26,>=1.21.1 in /usr/local/lib/python3.7/dist-packages (from requests->python-twitter) (1.24.3)\n",
            "Requirement already satisfied: oauthlib>=3.0.0 in /usr/local/lib/python3.7/dist-packages (from requests-oauthlib->python-twitter) (3.1.0)\n",
            "Requirement already satisfied: tweepy in /usr/local/lib/python3.7/dist-packages (3.10.0)\n",
            "Requirement already satisfied: requests[socks]>=2.11.1 in /usr/local/lib/python3.7/dist-packages (from tweepy) (2.23.0)\n",
            "Requirement already satisfied: six>=1.10.0 in /usr/local/lib/python3.7/dist-packages (from tweepy) (1.15.0)\n",
            "Requirement already satisfied: requests-oauthlib>=0.7.0 in /usr/local/lib/python3.7/dist-packages (from tweepy) (1.3.0)\n",
            "Requirement already satisfied: chardet<4,>=3.0.2 in /usr/local/lib/python3.7/dist-packages (from requests[socks]>=2.11.1->tweepy) (3.0.4)\n",
            "Requirement already satisfied: certifi>=2017.4.17 in /usr/local/lib/python3.7/dist-packages (from requests[socks]>=2.11.1->tweepy) (2020.12.5)\n",
            "Requirement already satisfied: idna<3,>=2.5 in /usr/local/lib/python3.7/dist-packages (from requests[socks]>=2.11.1->tweepy) (2.10)\n",
            "Requirement already satisfied: urllib3!=1.25.0,!=1.25.1,<1.26,>=1.21.1 in /usr/local/lib/python3.7/dist-packages (from requests[socks]>=2.11.1->tweepy) (1.24.3)\n",
            "Requirement already satisfied: PySocks!=1.5.7,>=1.5.6; extra == \"socks\" in /usr/local/lib/python3.7/dist-packages (from requests[socks]>=2.11.1->tweepy) (1.7.1)\n",
            "Requirement already satisfied: oauthlib>=3.0.0 in /usr/local/lib/python3.7/dist-packages (from requests-oauthlib>=0.7.0->tweepy) (3.1.0)\n"
          ],
          "name": "stdout"
        }
      ]
    },
    {
      "cell_type": "markdown",
      "metadata": {
        "id": "AbNNkKHF7-MI"
      },
      "source": [
        "# Now Start the Apache Kafka with the following commands in their respective directory in a cmd prompt.\n",
        "\n",
        "zkServer (To start Zookeeper)\n",
        "\n",
        "kafka-server-start.bat config\\server.properties (To connect Kafka)"
      ]
    },
    {
      "cell_type": "code",
      "metadata": {
        "id": "o76mJwnq8tD5"
      },
      "source": [
        "from tweepy.streaming import StreamListener\n",
        "from tweepy import OAuthHandler\n",
        "from tweepy import Stream\n",
        "from kafka import KafkaProducer\n",
        "import json\n",
        "import kafka"
      ],
      "execution_count": 2,
      "outputs": []
    },
    {
      "cell_type": "markdown",
      "metadata": {
        "id": "Ap5m9fYsrDZP"
      },
      "source": [
        "Using the developer.twitter.com (developer account) access your necessary API keys and tokens. \n",
        "(Every Key is unique and limited)"
      ]
    },
    {
      "cell_type": "code",
      "metadata": {
        "id": "fvqgQma7cYJc"
      },
      "source": [
        "twitterApiKey = 'xKH*******************HwubqS'\n",
        "twitterApiSecret = 'VYO5AfWvh********************************tw1r19'\n",
        "twitterApiAccessToken = '166*********************************84cDK40xr'\n",
        "twitterApiAccessTokenSecret = 'hGK****************************************S7FYfV'"
      ],
      "execution_count": 10,
      "outputs": []
    },
    {
      "cell_type": "code",
      "metadata": {
        "id": "ABeYsM5tp3BE"
      },
      "source": [
        "class StdOutListener(StreamListener):\n",
        "    def on_data(self, data):\n",
        "        json_ = json.loads(data) \n",
        "        producer.send(\"test\", json_[\"text\"].encode('utf-8'))\n",
        "        return True\n",
        "    def on_error(self, status):\n",
        "        print (status)"
      ],
      "execution_count": 26,
      "outputs": []
    },
    {
      "cell_type": "code",
      "metadata": {
        "id": "-lE91yPJmNSV"
      },
      "source": [
        "query = ['COVID19', \"CORONA VACCINE\"]"
      ],
      "execution_count": 39,
      "outputs": []
    },
    {
      "cell_type": "code",
      "metadata": {
        "id": "bIdxsvuQ_L85"
      },
      "source": [
        "producer = KafkaProducer(bootstrap_servers='localhost:9092', api_version= (0, 10, 0),value_serializer=lambda v: json.dumps(v).encode('utf-8'))\n",
        "listener = StdOutListener()\n",
        "auth = OAuthHandler(twitterApiKey, twitterApiSecret)\n",
        "auth.set_access_token(twitterApiAccessToken, twitterApiAccessTokenSecret)\n",
        "stream = Stream(auth, listener)\n",
        "stream.filter(track = query)"
      ],
      "execution_count": null,
      "outputs": []
    },
    {
      "cell_type": "code",
      "metadata": {
        "id": "meoCZV7mq91V"
      },
      "source": [
        "#kafka = KafkaClient(bootstrap_servers= \"localhost:9092\")\n",
        "producer = KafkaProducer(bootstrap_servers=['localhost:9092'],\n",
        "              api_version=(0,11,5),\n",
        "              value_serializer=lambda x: dumps(x).encode('utf-8'))\n",
        "listener = StdOutListener()\n",
        "auth = OAuthHandler(twitterApiKey, twitterApiSecret)\n",
        "auth.set_access_token(twitterApiAccessToken, twitterApiAccessTokenSecret)\n",
        "stream = Stream(auth, listener)\n",
        "stream.filter(track=query)\n",
        
        "#The code was throwing the error:"
        "#KafkaTimeoutError: Failed to update metadata after 60.0 secs."
      ],
      "execution_count": null,
      "outputs": []
    }
  ]
}
